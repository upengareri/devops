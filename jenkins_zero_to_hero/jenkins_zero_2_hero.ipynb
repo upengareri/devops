{
 "metadata": {
  "language_info": {
   "codemirror_mode": {
    "name": "ipython",
    "version": 3
   },
   "file_extension": ".py",
   "mimetype": "text/x-python",
   "name": "python",
   "nbconvert_exporter": "python",
   "pygments_lexer": "ipython3",
   "version": 3
  },
  "orig_nbformat": 2
 },
 "nbformat": 4,
 "nbformat_minor": 2,
 "cells": [
  {
   "source": [
    "## Jenkins Intro\n",
    "\n",
    "- It's an automation server\n",
    "- To install jenkins docker use `docker pull jenkins/jenkins`\n",
    "\n",
    "\n",
    "- Jenkins plugins gives you additional functionalities \n",
    "- Jenkins job is a set of tasks\n",
    "- Parameters in Jenkins is nothing but an interactive variable. Jenkins will ask for the value of the parameter before building the job.\n",
    "\n",
    "### Plugins used so far\n",
    "\n",
    "- ssh\n",
    "- Ansible\n",
    "- Ansi color\n",
    "- Role based authorizatiion strategy\n",
    "- Strict Crumb Issuer\n",
    "- Mailer\n",
    "\n",
    "---\n",
    "### Features\n",
    "\n",
    "- We can add users and create and assign roles to those users through role based plugin\n",
    "- We can also have __item roles__ that uses regex pattern and thus we can use it to match jobs and restrict its access to only certain users by assigning that item role to specific users\n",
    "- We can also define our own __ENVIRONMENT_VARIABLES__\n",
    "- We can run __job periodically__ (e.g backup job / nigthly job) using cron syntax under build trigger for that job\n",
    "- We can also use CRUMB plugin to allow building jobs using external bash scripts\n",
    "\n",
    "\n"
   ],
   "cell_type": "markdown",
   "metadata": {}
  },
  {
   "source": [
    "- `/var/jenkins_home/workspace` is the place in jenkins server where all the jobs are placed. For example, git checkout for a particular job happens to be at this place\n",
    "- In the devops world, the code that is build by a compiler is called `artifact`. For example, java code build using maven compiler produces jar file and it can be called as an artifact.\n",
    "- Running that artifact is called deployment. For example by running \"java -jar /address/of/jar\" we are deploying it locally in our system.\n",
    "- We can use email notification and configure our jobs to notify us if it fails\n",
    "- Most common stages in Jenkins: build -> test -> deploy -> archive artifact\n",
    "- We can use git hooks to trigger build using crumb. Remember with crumb we can invoke job with external script. So in .git folder of a repo, we can create a folder (e.g custom_hook) and put a .sh file (e.g post_receive.sh). That file can use crum to curl post the build job. So, whenever anyone pushes any code to that repo, hook under .git gets triggered and thus a shell script in it which invokest the jenkins job using crumb.\n"
   ],
   "cell_type": "markdown",
   "metadata": {}
  },
  {
   "source": [
    "## Docker\n",
    "- `docker-compose.yml` is like a script that spins the services we define\n",
    "- `docker-compose up -d`: to run docker compose file\n",
    "- `docker ps`: to check running docker container\n",
    "- `docker logs -f <container_name>`: to check the **logs** of the running container\n",
    "- `docker rm -fv <container_name>`: to delete docker container\n",
    "\n",
    "\n",
    "- `docker-compose stop`: to stop the service\n",
    "- `docker-compose start`: to start the service\n",
    "- `docker-compose down`: to delete the service\n",
    "- `docker-compose up -d`: to create/re-create docker service (starts container service)\n",
    "- `docker-compose build`: builds the image\n",
    "\n",
    "\n",
    "- `docker exec -it <container_name> bash`: to go inside a container and execute bash\n",
    "- Anything created inside container (e.g  any file) remains in the container and not known to the host running the docker container\n",
    "- To copy file from host to container\n",
    "    `docker cp <file in host> <container_name>:<path in container>`\n",
    "\n",
    "    e.g\n",
    "    `docker cp script.sh jenkins:/tmp/script.sh`\n",
    "- Without networks in docker-compose the containers can't reach each other. In other words, with network in docker-compose all containers can talk to each other using the dns name assigned to them in the compose file. (you can relate this to subnets in vpc which can talk to each other using local route)"
   ],
   "cell_type": "markdown",
   "metadata": {}
  },
  {
   "source": [
    "## Bash\n",
    "\n",
    "1. Run command alongside string\n",
    "```bash\n",
    "echo \"Current date and time is: $(date)\"\n",
    "```\n",
    "2. Variable\n",
    "```bash\n",
    "NAME=John\n",
    "echo \"Hello ${NAME}. Current date and time is $(date)\"\n",
    "```\n",
    "3. Redirect output to file\n",
    "```bash\n",
    "NAME=John\n",
    "echo \"Hello ${NAME}. Current date and time is $(date)\" > /tmp/info\n",
    "```\n",
    "4. To pass parameter to a script\n",
    "\n",
    "`./script.sh John Snow`\n",
    "```bash\n",
    "NAME=$1\n",
    "LASTNAME=$2\n",
    "echo \"My name is $NAME $LASTNAME\"\n",
    "```\n",
    "5. If condition\n",
    "\n",
    "```bash\n",
    "FIRST_NAME=$1\n",
    "LAST_NAME=$2\n",
    "if [ $SHOW = true ]; then\n",
    "  echo \"Hello $FIRST_NAME $LAST_NAME\"\n",
    "else\n",
    "  echo \"Please mark the show option\"\n",
    "fi\n",
    "```"
   ],
   "cell_type": "markdown",
   "metadata": {}
  },
  {
   "source": [
    "6. while loop\n",
    "\n",
    "```bash\n",
    "counter=0\n",
    "while [ $counter -lt 50 ]; do\n",
    "  let counter=counter+1\n",
    "  echo \"$counter\"\n",
    "done\n",
    "```\n",
    "\n",
    "7. nl command [more info and other related articles](https://www.geeksforgeeks.org/nl-command-in-linux-with-examples/#:~:text=nl%20command%20is%20a%20Unix,numbers%20appended%20before%20the%20lines.)\n",
    "- numbers the line (from a file)\n",
    "```bash\n",
    "nl <filename.txt>\n",
    "```"
   ],
   "cell_type": "markdown",
   "metadata": {}
  },
  {
   "source": [
    "__Example Bash__\n",
    "\n",
    "```bash\n",
    "#!/bin/bash\n",
    "\n",
    "counter=0\n",
    "\n",
    "while [ $counter -lt 50 ]; do\n",
    "  let counter=counter+1\n",
    "\n",
    "  name=$(nl people.txt | grep -w $counter | awk '{print $2}' | awk -F ',' '{print $1}')\n",
    "  lastname=$(nl people.txt | grep -w $counter | awk '{print $2}' | awk -F ',' '{print $2}')\n",
    "  age=$(shuf -i 20-25 -n 1)\n",
    "\n",
    "  mysql -u root -p1234 people -e \"insert into register values ($counter, '$name', '$lastname', $age)\"\n",
    "  echo \"$counter, $name $lastname, $age was correctly imported\"\n",
    "done\n",
    "```"
   ],
   "cell_type": "markdown",
   "metadata": {}
  },
  {
   "source": [
    "## Ansible\n",
    "\n",
    "1. Variable\n",
    "```yml\n",
    "msg: \"{{ MSG }}\"\n",
    "```\n",
    "Here MSG is a variable\n",
    "\n",
    "\n",
    "Another example of Ansible automation is -\n",
    "\n",
    "created a playbook that copies jinja2 template from src (jenkins system) to destination. As the jinja templates can be made dynamic by passing variables from outside (see [here](https://codeburst.io/jinja-2-explained-in-5-minutes-88548486834e)), we can use ansible command to pass that variable with -e flag\n",
    "\n",
    "`ansible-playbook -i <hosts_file> <playbook_name.yml> -e \"<dynamic_var_name>\"`\n",
    "\n",
    "On top of this, we can automate this command further with the jenkins job that supports ansible execution through the plugin"
   ],
   "cell_type": "markdown",
   "metadata": {}
  },
  {
   "source": [
    "## SQL\n",
    "\n",
    "`show databases;`\n",
    "\n",
    "`create database people;`\n",
    "\n",
    "`use people;`\n",
    "\n",
    "`create table register (id int(3), name varchar(50), lastname varchar(50), age int(3));`\n",
    "\n",
    "`desc register;`\n",
    "\n",
    "`insert into register values (1, 'john', 'snow', 25);`\n",
    "\n"
   ],
   "cell_type": "markdown",
   "metadata": {}
  },
  {
   "source": [
    "## EXTRA\n",
    "\n",
    "- To check number of cores in linux     `cat /proc/cpuinfo | grep cores`\n",
    "- To check free RAM     `free -h`"
   ],
   "cell_type": "markdown",
   "metadata": {}
  },
  {
   "cell_type": "code",
   "execution_count": null,
   "metadata": {},
   "outputs": [],
   "source": []
  }
 ]
}