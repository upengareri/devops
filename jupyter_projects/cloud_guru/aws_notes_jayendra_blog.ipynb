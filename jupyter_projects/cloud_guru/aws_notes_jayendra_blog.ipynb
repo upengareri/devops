{
 "cells": [
  {
   "cell_type": "markdown",
   "metadata": {},
   "source": [
    "### Points noted from SAA exam learning path (https://jayendrapatil.com/aws-solution-architect-associate-exam-learning-path/)\n",
    "\n",
    "- Remember the use case of SWF and it's action tasker (used example of gmail percentage of storage left), its collaboration with DynamoDB + SES\n",
    "- Remember the use case of any upload media website like FB (use of SIF + multi-part upload (has features like upload without complete knowledge of size)\n",
    "- For RDS running on EC2 instances with EBS attached vol, use Provisioned IOPS EBS + EBS-Optimized Instance type, if RDS is bottlenecked\n",
    "- __innoDB__ is the recommended storage engine for MySQL DB instances on RDS while __xtraDB__ storage engine for MariaDB\n",
    "- AWS Config: shows what resources we have now; IAM Credentials Report: allows auditing credentials and login\n",
    "- DR: AMI for EC2 backup; Snapshot for EBS Volume; asyncronous db backup on S3(slow service) or EBS or EC2 instance for RDS\n",
    "- Keep rapidly accessed data to EBS/RDS which offer high IOPS rather than on S3\n",
    "- Gateway-cached volumes utilizes S3 for primary data backup, while retaining frequently accessed data locally in a cache.\n",
    "- Gateway-stored volumes stores the complete primary data locally, while asynchronously backing up that data to AWS (offsite backup)\n",
    "---\n",
    "**Gateway-Cached Volume**\n",
    "- Data is stored in S3 and acts as a Primary data storage\n",
    "- Gateway retains a copy of recently read data locally for low latency access to the frequently accessed data\n",
    "\n",
    "**Gateway-Stored Volume**\n",
    "- Gateway-stored volumes maintain the entire data set locally to provide low latency access\n",
    "- Gateway asynchronously backs up point-in-time snapshots (in the form of EBS snapshots) of the data to S3 which provides durable off-site backups\n",
    "\n",
    "> although data is stored in S3, gateway volumes are only accessible from the AWS Storage Gateway and cannot be directly accessed using Amazon S3 APIs\n",
    "\n",
    "Q. Which of the following services natively encrypts data at rest within an AWS region?Choose 2 answers\n",
    "\n",
    "__a. AWS Storage Gateway__\n",
    "b. Amazon DynamoDB\n",
    "c. Amazon CloudFront\n",
    "__d. Amazon Glacier__\n",
    "e. Amazon Simple Queue Service\n",
    "\n",
    "---\n",
    "\n",
    "![](./resources/AWS-VPC-Components.png)\n",
    "\n",
    "---"
   ]
  },
  {
   "cell_type": "markdown",
   "metadata": {},
   "source": [
    "- Route tables needs to be updated to defined routes for Internet gateways, Virtual Private gateways, VPC Peering, VPC Endpoints, NAT Device etc.\n",
    "- ASG Launch configuration can’t be modified after creation and needs to be created new if any modification required\n",
    "- Go through ASG Questions especially Q.34: https://jayendrapatil.com/aws-auto-scaling/\n",
    "- detailed monitoring on EC2 will be enabled by the default launch configuration of Auto Scaling\n",
    "- Auto Scaling Launch config does not cost anything\n",
    "- GroupDesiredCapacity: The number of instances that the Auto Scaling group attempts to maintain\n",
    "- SQS: Consumer should __explicitly delete__ the message from the Queue once it is received and successfully processed\n",
    "- For situations where the database is not able to handle the amount of WRITE, use SQS\n",
    "- If you create SQS queue and do not perform any operation on it like send or receive msg, AWS will delete the queue after __30 days without any notification__"
   ]
  },
  {
   "cell_type": "markdown",
   "metadata": {},
   "source": [
    "![](./resources/sqs_arch.jpg)"
   ]
  },
  {
   "cell_type": "markdown",
   "metadata": {},
   "source": [
    "- ELB with TCP listener and proxy protocol will allow IP to be passed \n",
    "- ELB with HTTPs does not support Client-Side certificates\n",
    "- ELB and EC2 must be in the same VPC\n",
    "- The user can add more EC2 instances or more zones (to increase HA) to ELB __on the fly__\n",
    "- IAM Policy: IAM policy basically states __“Principal A is allowed or denied (effect) to perform Action B on Resource C given Conditions D are satisfied”__\n",
    "- One AWS account can have 5k users, 250 roles and 100 groups and 1 MFA device in use (per account)\n",
    "- You have multiple departments in your organization: Create IAM groups based on the permission and assign IAM users to the groups\n",
    "- Best practices to secure EC2 instance:\n",
    "    - Keep up to date with software patches (apt update)\n",
    "    - Lock down ports to prevent unauthorized access (SG e.g allow just https, http and ssh)\n",
    "    - Ditch passwords and require administrators to use SSH keys\n",
    "    \n",
    "__Cross-Account Access:__\n",
    "- AWS allows granting __cross-account access__ to AWS resources, which can be done using IAM __Roles or Resource Based policies__\n",
    "1.  __Resource Based Policy:__\n",
    "    - Resource based policy allows you to attach a policy directly to the resource that you want to share, instead of using a role as a proxy.\n",
    "    - Resource-based policy specifies who, as a Principal in the form of a list of AWS account ID numbers, can access that resource and what they can access __(authentication and authorization)__\n",
    "---\n",
    "2. __IAM Role:__\n",
    "- Roles can be assumed by\n",
    "1. IAM user within same AWS account\n",
    "2. IAM user from different AWS account\n",
    "3. AWS services such as EC2, RDS, EMR to interact with other services\n",
    "4. An external user authenticated by external identity provider (IdP)\n",
    "\n",
    "- Roles involve 2 defining policies: (for cross-account access)\n",
    "1. __Trust Policy__ (authentication)\n",
    "    - It defines who can assume the role\n",
    "    - It involves setting up trust b/w account who owns the resource and the account who owns the user that needs access to the resource\n",
    "2. __Permission Policy__ (authorization)\n",
    "    - It determines authorization i.e what they (user of the role) can access\n",
    "---"
   ]
  },
  {
   "cell_type": "markdown",
   "metadata": {},
   "source": [
    "### VPC\n",
    "\n",
    "- NAT Gateway enables instances in a private subnet to connect to the internet (for example, for software updates) or other AWS services, but prevent the internet from initiating connections with the instances.\n",
    "- NAT devices are not supported for IPv6 traffic, use an Egress-only Internet gateway instead\n",
    "- Security group restricts access to EC2 while ACL restricts traffic to a subnet\n",
    "- Bastion host:\n",
    "    - Deployed on public subnet\n",
    "    - can be used for RDP (windows) and ssh (Linux)\n",
    "\n",
    "---\n",
    "\n",
    "### ELB\n",
    "\n",
    "- ELB does not support __client side certificate__ for HTTPS listener. For client side certificate support, use TCP for connection b/w client and ELB with SSL protocol\n",
    "- Uses __Server Name Indication__ for mulitple SSL certificates\n",
    "- supports SSL termination, to decrypt the request on ALB before sending it to the underlying targets\n",
    "- only NLB supports Elastic IP\n",
    "- NLB does not support __sticky session__\n",
    "\n",
    "### ASG\n",
    "\n",
    "- can't span multiple regions just like AMIs\n",
    "\n",
    "> Reminder: connection b/w corporate datacenter and VPC can be done via private subnet as it doesn't require public IP address\n",
    "\n",
    "### EC2\n",
    "\n",
    "- Instance Types: TRC, MIG\n",
    "- CloudWatch alarms can do a lot of things for EC2 like stop, terminate, reboot instance etc. (for this the IAM USER has to have cloudwatch access as well as ec2 rights)\n",
    "- Aggregation of data (cloudwatch) for mulitple ec2 instances can only be done with detailed monitoring\n",
    "- "
   ]
  },
  {
   "cell_type": "code",
   "execution_count": null,
   "metadata": {},
   "outputs": [],
   "source": []
  }
 ],
 "metadata": {
  "kernelspec": {
   "display_name": "Python 3",
   "language": "python",
   "name": "python3"
  },
  "language_info": {
   "codemirror_mode": {
    "name": "ipython",
    "version": 3
   },
   "file_extension": ".py",
   "mimetype": "text/x-python",
   "name": "python",
   "nbconvert_exporter": "python",
   "pygments_lexer": "ipython3",
   "version": "3.9.0"
  }
 },
 "nbformat": 4,
 "nbformat_minor": 4
}
