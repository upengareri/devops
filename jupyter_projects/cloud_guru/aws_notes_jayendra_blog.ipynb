{
 "cells": [
  {
   "cell_type": "markdown",
   "metadata": {},
   "source": [
    "### Points noted from SAA exam learning path (https://jayendrapatil.com/aws-solution-architect-associate-exam-learning-path/)\n",
    "\n",
    "- Remember the use case of SWF and it's action tasker (used example of gmail percentage of storage left), its collaboration with DynamoDB + SES\n",
    "- Remember the use case of any upload media website like FB (use of SIF + multi-part upload (has features like upload without complete knowledge of size)\n",
    "- For RDS running on EC2 instances with EBS attached vol, use Provisioned IOPS EBS + EBS-Optimized Instance type, if RDS is bottlenecked\n",
    "- __innoDB__ is the recommended storage engine for MySQL DB instances on RDS while __xtraDB__ storage engine for MariaDB\n",
    "- AWS Config: shows what resources we have now; IAM Credentials Report: allows auditing credentials and login\n",
    "- DR: AMI for EC2 backup; Snapshot for EBS Volume; asyncronous db backup on S3(slow service) or EBS or EC2 instance for RDS\n",
    "- Keep rapidly accessed data to EBS/RDS which offer high IOPS rather than on S3\n",
    "- Gateway-cached volumes utilizes S3 for primary data backup, while retaining frequently accessed data locally in a cache.\n",
    "- Gateway-stored volumes stores the complete primary data locally, while asynchronously backing up that data to AWS (offsite backup)\n",
    "---\n",
    "**Gateway-Cached Volume**\n",
    "- Data is stored in S3 and acts as a Primary data storage\n",
    "- Gateway retains a copy of recently read data locally for low latency access to the frequently accessed data\n",
    "\n",
    "**Gateway-Stored Volume**\n",
    "- Gateway-stored volumes maintain the entire data set locally to provide low latency access\n",
    "- Gateway asynchronously backs up point-in-time snapshots (in the form of EBS snapshots) of the data to S3 which provides durable off-site backups\n",
    "\n",
    "> although data is stored in S3, gateway volumes are only accessible from the AWS Storage Gateway and cannot be directly accessed using Amazon S3 APIs\n",
    "\n",
    "Q. Which of the following services natively encrypts data at rest within an AWS region?Choose 2 answers\n",
    "\n",
    "__a. AWS Storage Gateway__\n",
    "b. Amazon DynamoDB\n",
    "c. Amazon CloudFront\n",
    "__d. Amazon Glacier__\n",
    "e. Amazon Simple Queue Service\n",
    "\n",
    "---\n",
    "\n",
    "![](./resources/AWS-VPC-Components.png)\n",
    "\n",
    "---"
   ]
  },
  {
   "cell_type": "markdown",
   "metadata": {},
   "source": [
    "- Route tables needs to be updated to defined routes for Internet gateways, Virtual Private gateways, VPC Peering, VPC Endpoints, NAT Device etc.\n",
    "- ASG Launch configuration can’t be modified after creation and needs to be created new if any modification required\n",
    "- Go through ASG Questions especially Q.34: https://jayendrapatil.com/aws-auto-scaling/\n",
    "- detailed monitoring on EC2 will be enabled by the default launch configuration of Auto Scaling\n",
    "- Auto Scaling Launch config does not cost anything\n",
    "- GroupDesiredCapacity: The number of instances that the Auto Scaling group attempts to maintain\n",
    "- SQS: Consumer should __explicitly delete__ the message from the Queue once it is received and successfully processed\n",
    "- For situations where the database is not able to handle the amount of WRITE, use SQS\n",
    "- If you create SQS queue and do not perform any operation on it like send or receive msg, AWS will delete the queue after __30 days without any notification__"
   ]
  },
  {
   "cell_type": "markdown",
   "metadata": {},
   "source": [
    "![](./resources/sqs_arch.jpg)"
   ]
  },
  {
   "cell_type": "markdown",
   "metadata": {},
   "source": [
    "- ELB with TCP listener and proxy protocol will allow IP to be passed \n",
    "- ELB with HTTPs does not support Client-Side certificates\n",
    "- ELB and EC2 must be in the same VPC\n",
    "- "
   ]
  },
  {
   "cell_type": "code",
   "execution_count": null,
   "metadata": {},
   "outputs": [],
   "source": []
  }
 ],
 "metadata": {
  "kernelspec": {
   "display_name": "Python 3",
   "language": "python",
   "name": "python3"
  },
  "language_info": {
   "codemirror_mode": {
    "name": "ipython",
    "version": 3
   },
   "file_extension": ".py",
   "mimetype": "text/x-python",
   "name": "python",
   "nbconvert_exporter": "python",
   "pygments_lexer": "ipython3",
   "version": "3.9.0"
  }
 },
 "nbformat": 4,
 "nbformat_minor": 4
}
