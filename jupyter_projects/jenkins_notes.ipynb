{
 "cells": [
  {
   "cell_type": "markdown",
   "metadata": {},
   "source": [
    "# Notes on Jenkins\n",
    "\n",
    "- Jenkinsfile is a __Pipeline as Code__. It is part of IaC concept.\n",
    "- Supports both `scripted` (groovy syntax) as well as well as `declarative`(template based) syntax.\n",
    "- `Scripted` pipeline starts with __node__ and `declarative` pipeline starts with __pipeline__.\n",
    "\n",
    "- __when__: For some stage e.g 'test', we only want to run on dev branch or any other branch. For that there is `when` expression.\n",
    "\n",
    "- environment variable is an importance concept in Jenkins. We can either use the already available tons of Jenkins env var e.g BRANCH_NAME or we can create our own environment variable with `environment {}` expression\n",
    "\n",
    "- credentials can be used with __1.credentials(for creating credentials in GUI) and 2.credentials binding (for using those credentials in jenkinsfile)__ plugins and then use its function `credentials(id)` to get username and password. This function can be used in our custom environment expression if we need the credentials for multiple stages. If we only need it for one stage, we can use a wrapper `withCredentials()`.\n",
    "\n",
    "- __tools__: If we want to use some build tools like maven, gradle, jdk etc. for multiple stages, then we can use `tools {}` syntax but the tool name has to be the same as is install in Jenkins (global tool configuration).\n",
    "\n",
    "- __parameters__: types- string, choice(list), boolean. It's like you define a variable in other programming languages. We can use parameters in `when` expression or any stage as variable.\n",
    "\n",
    "- `script` block: so that we can modulerize/ make composable jenkinsfile.\n",
    "\n",
    "- Jenkins need to be installed only on master server and not on agents."
   ]
  },
  {
   "cell_type": "code",
   "execution_count": null,
   "metadata": {},
   "outputs": [],
   "source": []
  }
 ],
 "metadata": {
  "kernelspec": {
   "display_name": "Python 3",
   "language": "python",
   "name": "python3"
  },
  "language_info": {
   "codemirror_mode": {
    "name": "ipython",
    "version": 3
   },
   "file_extension": ".py",
   "mimetype": "text/x-python",
   "name": "python",
   "nbconvert_exporter": "python",
   "pygments_lexer": "ipython3",
   "version": "3.9.0"
  }
 },
 "nbformat": 4,
 "nbformat_minor": 4
}
