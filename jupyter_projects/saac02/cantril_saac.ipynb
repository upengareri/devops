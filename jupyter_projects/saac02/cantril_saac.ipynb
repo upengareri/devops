{
 "cells": [
  {
   "cell_type": "markdown",
   "metadata": {},
   "source": [
    "## Account\n",
    "\n",
    "- Add __MFA__\n",
    "- Enable __billing alert__ (remember checkboxes)\n",
    "- Enable __IAM User+Role Access__ to billing (so that admin user can see and we don't use root user which has god mode)\n",
    "- Add account contacts\n",
    "\n",
    "---\n",
    "\n",
    "- Login:\n",
    "    - console: username/password\n",
    "    - cli: access keys (access key ID/secret access key)"
   ]
  },
  {
   "cell_type": "markdown",
   "metadata": {},
   "source": [
    "## Cloud Computing?\n",
    "__ROB ME__ (Resource pooling (any AZ, cheaper service), on-demand service, broad network, measured service, elasticity)\n",
    "\n",
    "\n",
    "> Public + Private = Hybrid (!= pulbic + legacy on-premise)"
   ]
  },
  {
   "cell_type": "markdown",
   "metadata": {},
   "source": [
    "## NAT\n",
    "\n",
    "- NAT is designed to overcome IPv4 shortages\n",
    "- Translates private IPv4 addresses to public\n",
    "- IGW uses Static NAT (1 to 1 private to public IP address allocation ie. 1 private IP will be allocated 1 public IP)\n",
    "- NAT Gateway uses Port Address Translation (PAT) - see below route table for PAT (1 public IP to many private IP and this is how our multiple phones, laptops at home are connected)\n",
    "![](./resources/saac02_nat.png)"
   ]
  },
  {
   "cell_type": "code",
   "execution_count": null,
   "metadata": {},
   "outputs": [],
   "source": []
  }
 ],
 "metadata": {
  "kernelspec": {
   "display_name": "Python 3",
   "language": "python",
   "name": "python3"
  },
  "language_info": {
   "codemirror_mode": {
    "name": "ipython",
    "version": 3
   },
   "file_extension": ".py",
   "mimetype": "text/x-python",
   "name": "python",
   "nbconvert_exporter": "python",
   "pygments_lexer": "ipython3",
   "version": "3.9.0"
  }
 },
 "nbformat": 4,
 "nbformat_minor": 4
}
