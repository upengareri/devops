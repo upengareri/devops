{
 "cells": [
  {
   "cell_type": "markdown",
   "metadata": {},
   "source": [
    "## Account\n",
    "\n",
    "- Add __MFA__\n",
    "- Enable __billing alert__ (remember checkboxes)\n",
    "- Enable __IAM User+Role Access__ to billing (so that admin user can see and we don't use root user which has god mode)\n",
    "- Add account contacts\n",
    "\n",
    "---\n",
    "\n",
    "- Login:\n",
    "    - console: username/password\n",
    "    - cli: access keys (access key ID/secret access key)"
   ]
  },
  {
   "cell_type": "markdown",
   "metadata": {},
   "source": [
    "## Cloud Computing?\n",
    "__ROB ME__ (Resource pooling (any AZ, cheaper service), on-demand service, broad network, measured service, elasticity)\n",
    "\n",
    "\n",
    "> Public + Private = Hybrid (!= pulbic + legacy on-premise)"
   ]
  },
  {
   "cell_type": "markdown",
   "metadata": {},
   "source": [
    "## NAT\n",
    "\n",
    "- NAT is designed to overcome IPv4 shortages\n",
    "- Translates private IPv4 addresses to public\n",
    "- IGW uses Static NAT (1 to 1 private to public IP address allocation ie. 1 private IP will be allocated 1 public IP)\n",
    "- NAT Gateway uses Port Address Translation (PAT) - see below route table for PAT (1 public IP to many private IP and this is how our multiple phones, laptops at home are connected)\n",
    "![](./resources/saac02_nat.png)\n",
    "\n",
    "---"
   ]
  },
  {
   "cell_type": "markdown",
   "metadata": {},
   "source": [
    "## CIDR\n",
    "> Watch the link to understand IP Address ranges within CIDR block: https://www.youtube.com/watch?v=ls1mMyfnaC0\n",
    "> 2 IPs reserved (all 0 for network and all 1 for broadcast)"
   ]
  },
  {
   "cell_type": "markdown",
   "metadata": {},
   "source": [
    "## IAM\n",
    "\n",
    "- 5k users, 1k roles (soft) and 300 groups (soft)\n",
    "- On company mergers and other scenarios, one can have more than 5k people and to give them user access we can alternatively use roles or Identity federation\n",
    "- Resource Policy: resource can have attached policy that can give access to user(s) or role(s). E.g bucket can have policy to give access to \"Sally\" user\n",
    "- Role can be trusted to [shortform:__AWS__]: **A**WS services (EC2, lambda etc.), **A**nother AWS account, **W**IF, **S**AML (on premise corporate directory)\n",
    "- Identity policy tells what the identity can do while Resource policy tells what others (principal) can do with the resource. Bucket policy is a form of resource policy. If a principal is present in the statement of JSON it's resource policy; it not then it's identity policy. This is obvious because for identity policy the principal would be the identity itself. And that is why resource policy can allow/deny to anonymous principals via wildcard \"*\""
   ]
  },
  {
   "cell_type": "markdown",
   "metadata": {},
   "source": [
    "## S3\n",
    "\n",
    "__Versioning__: Why it's important to know that once enabled it cannot be disabled but only suspended? 'll cost money for different stored versions even when suspended. Only way to 0 the cost is by deleting the bucket or manually deleting all the versions of objects\n",
    "\n",
    "__Transfer Acceleration__: You need to use the endpoint generated during enabling the feature. And you can only suspend it later but not disable it just like versioning.\n",
    "\n",
    "__Pre-signed URL__:\n",
    "![](./resources/presigned_url.png)"
   ]
  },
  {
   "cell_type": "markdown",
   "metadata": {},
   "source": [
    "## Policy\n",
    "\n",
    "__Identity vs Resource Policy__:\n",
    "\n",
    "- Identity policy can be **inline** or **managed**. Principal is the identity itself.\n",
    "- 2 min read for more clarity on below image: https://docs.aws.amazon.com/IAM/latest/UserGuide/access_policies_identity-vs-resource.html\n",
    "\n",
    "![](./resources/policy.png)"
   ]
  },
  {
   "cell_type": "markdown",
   "metadata": {},
   "source": [
    "## VPC\n",
    "\n",
    "__VPC Sizing and Structure__:\n",
    "1. Find what CIDR not to use (by coordinating with IT on existing network ranges)"
   ]
  },
  {
   "cell_type": "code",
   "execution_count": null,
   "metadata": {},
   "outputs": [],
   "source": []
  }
 ],
 "metadata": {
  "kernelspec": {
   "display_name": "Python 3",
   "language": "python",
   "name": "python3"
  },
  "language_info": {
   "codemirror_mode": {
    "name": "ipython",
    "version": 3
   },
   "file_extension": ".py",
   "mimetype": "text/x-python",
   "name": "python",
   "nbconvert_exporter": "python",
   "pygments_lexer": "ipython3",
   "version": "3.9.0"
  }
 },
 "nbformat": 4,
 "nbformat_minor": 4
}
