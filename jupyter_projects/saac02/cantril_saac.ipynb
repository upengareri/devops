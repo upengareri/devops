{
 "cells": [
  {
   "cell_type": "markdown",
   "metadata": {},
   "source": [
    "## Account\n",
    "\n",
    "- Add __MFA__\n",
    "- Enable __billing alert__ (remember checkboxes)\n",
    "- Enable __IAM User+Role Access__ to billing (so that admin user can see and we don't use root user which has god mode)\n",
    "- Add account contacts\n",
    "\n",
    "---\n",
    "\n",
    "- Login:\n",
    "    - console: username/password\n",
    "    - cli: access keys (access key ID/secret access key)"
   ]
  },
  {
   "cell_type": "markdown",
   "metadata": {},
   "source": [
    "## Cloud Computing?\n",
    "__ROB ME__ (Resource pooling (any AZ, cheaper service), on-demand service, broad network, measured service, elasticity)\n",
    "\n",
    "\n",
    "> Public + Private = Hybrid (!= pulbic + legacy on-premise)"
   ]
  },
  {
   "cell_type": "markdown",
   "metadata": {},
   "source": [
    "## NAT\n",
    "\n",
    "- NAT is designed to overcome IPv4 shortages\n",
    "- Translates private IPv4 addresses to public\n",
    "- IGW uses Static NAT (1 to 1 private to public IP address allocation ie. 1 private IP will be allocated 1 public IP)\n",
    "- NAT Gateway uses Port Address Translation (PAT) - see below route table for PAT (1 public IP to many private IP and this is how our multiple phones, laptops at home are connected)\n",
    "![](./resources/saac02_nat.png)\n",
    "\n",
    "---"
   ]
  },
  {
   "cell_type": "markdown",
   "metadata": {},
   "source": [
    "## CIDR\n",
    "> Watch the link to understand IP Address ranges within CIDR block: https://www.youtube.com/watch?v=ls1mMyfnaC0\n",
    "> 2 IPs reserved (all 0 for network and all 1 for broadcast)"
   ]
  },
  {
   "cell_type": "markdown",
   "metadata": {},
   "source": [
    "## IAM\n",
    "\n",
    "- 5k users, 1k roles (soft) and 300 groups (soft)\n",
    "- On company mergers and other scenarios, one can have more than 5k people and to give them user access we can alternatively use roles or Identity federation\n",
    "- Resource Policy: resource can have attached policy that can give access to user(s) or role(s). E.g bucket can have policy to give access to \"Sally\" user\n",
    "- Role can be trusted to [shortform:__AWS__]: **A**WS services (EC2, lambda etc.), **A**nother AWS account, **W**IF, **S**AML (on premise corporate directory)\n",
    "- Identity policy tells what the identity can do while Resource policy tells what others (principal) can do with the resource. Bucket policy is a form of resource policy. If a principal is present in the statement of JSON it's resource policy; it not then it's identity policy. This is obvious because for identity policy the principal would be the identity itself. And that is why resource policy can allow/deny to anonymous principals via wildcard \"*\""
   ]
  },
  {
   "cell_type": "markdown",
   "metadata": {},
   "source": [
    "## S3\n",
    "\n",
    "__Versioning__: Why it's important to know that once enabled it cannot be disabled but only suspended? 'll cost money for different stored versions even when suspended. Only way to 0 the cost is by deleting the bucket or manually deleting all the versions of objects\n",
    "\n",
    "__Transfer Acceleration__: You need to use the endpoint generated during enabling the feature. And you can only suspend it later but not disable it just like versioning.\n",
    "\n",
    "__Pre-signed URL__: (for 1 object?)\n",
    "![](./resources/presigned_url.png)"
   ]
  },
  {
   "cell_type": "markdown",
   "metadata": {},
   "source": [
    "## Policy\n",
    "\n",
    "__Identity vs Resource Policy__:\n",
    "\n",
    "- Identity policy can be **inline** or **managed**. Principal is the identity itself.\n",
    "- 2 min read for more clarity on below image: https://docs.aws.amazon.com/IAM/latest/UserGuide/access_policies_identity-vs-resource.html\n",
    "\n",
    "![](./resources/policy.png)"
   ]
  },
  {
   "cell_type": "markdown",
   "metadata": {},
   "source": [
    "## VPC\n",
    "\n",
    "__VPC Sizing and Structure__:\n",
    "1. Find what CIDR not to use (by coordinating with IT on existing network ranges)\n",
    "\n",
    "- Nothing inside VPC has public IP; static NAT i.e IGW maps public IP to private IP assigned to anything (EC2, NATG etc) inside VPC. If anything has public IP auto-assign to a resource in VPC then that means there is a mapping of it's private IP attached to that resource to public IP not attached to that resource but mapped by IGW\n",
    "\n",
    "- The speciality of NAT gateway is that it keeps a table that translates multiple private IPs of IP with multiple ports to the same public IP but different ports. Home router is an example of NATG\n",
    "\n",
    "- NATG is managed by AWS and scales up to 45Gbps and that is why it's a bit expensive as price is - \n",
    "    1. hourly and \n",
    "    2. for volume of data transferred. "
   ]
  },
  {
   "cell_type": "markdown",
   "metadata": {},
   "source": [
    "### SNAPSHOTS\n",
    "\n",
    "- Snapshot created from a volume already changed to file system layout will preserve that state\n",
    "- While creating volume from snapshot we can choose different AZ\n",
    "- To use the volume in another region we need to perform **copy** of the snapshot\n",
    "\n",
    "\n",
    "- We can now set the default encryption for EBS on the region level which can be overriden by more specific encryption while creating the volume"
   ]
  },
  {
   "cell_type": "markdown",
   "metadata": {},
   "source": [
    "### ENI\n",
    "\n",
    "- An elastic network interface can have the following features\n",
    "\n",
    "![](./resources/ENI.png)\n",
    "\n",
    "- Secondary interfaces has the same feature as primary interface. Additionally it can be detached and attached to another EC2 instance\n",
    "- This feature of detached secondary interface can be used for licensing\n",
    "\n",
    "> Remember: Public DNS in ENI resolves to private IP within VPC and not to public IP of the ENI. And this makes sense as the pulic IP is dynamic which changes on \"stop\" and \"start\" of EC2 instance"
   ]
  },
  {
   "cell_type": "markdown",
   "metadata": {},
   "source": [
    "---\n",
    "\n",
    "### EC2 minor but powerful checks\n",
    "\n",
    "- Apart from Auto-recovery option for instance status check, there's also __Termination Protection__ feature as well as __Shutdown behaviour__ feature (on stop/shutdown of EC2 default is stop but we can also terminate on stop)\n",
    "> Summary: Auto-recovery status check, Termination Protection, Shutdown behaviour"
   ]
  },
  {
   "cell_type": "markdown",
   "metadata": {},
   "source": [
    "Bootstraping Options:\n",
    "- Baked AMI\n",
    "- User Data (only at launch time)\n",
    "- cfn-init (can be on update stack as well; also provides signal via cfn-signal; it's an advanced form of userdata)"
   ]
  },
  {
   "cell_type": "markdown",
   "metadata": {},
   "source": [
    "### R53 Public Hosted Zone\n",
    "\n",
    "![](./resources/public_hosted_zone.png)"
   ]
  },
  {
   "cell_type": "markdown",
   "metadata": {},
   "source": [
    "### Some billing notes\n",
    "- For ec2 you pay for the cpu and memory usage per hour\n",
    "- For EBS you pay for the gb/month allocated"
   ]
  },
  {
   "cell_type": "markdown",
   "metadata": {},
   "source": [
    "### Aurora serverless architecture\n",
    "\n",
    "![](./resources/aurora_serverless_arch.png)\n",
    "\n",
    "__ACU__: Aurora Capacity Units\n",
    "\n",
    "---"
   ]
  },
  {
   "cell_type": "markdown",
   "metadata": {},
   "source": [
    "### ASG and LT\n",
    "- LT answers __WHAT__ \n",
    "- ASG answers __WHEN__ and __WHERE__\n",
    "\n",
    "> What means what type of ec2 instance to be launched, volume as well as user data\n",
    "\n",
    "> When means the optional scaling policy (manual, scheduled, dynamic)\n",
    "\n",
    "> Where means which subnet(s) to use to launch ec2\n",
    "\n",
    "---"
   ]
  },
  {
   "cell_type": "markdown",
   "metadata": {},
   "source": [
    "### EventBridge\n",
    "\n",
    "- Monitors the bus for events\n",
    "- Uses rule (event pattern rule or scheduled rule - cron) to invoke target such as lambda"
   ]
  },
  {
   "cell_type": "markdown",
   "metadata": {},
   "source": [
    "### API Gateway\n",
    "\n",
    "- API Gateway is a managed service from AWS which allows the creation of API Endpoints, Resources & Methods"
   ]
  },
  {
   "cell_type": "markdown",
   "metadata": {},
   "source": [
    "### VPC Flow Logs\n",
    "\n",
    "Important for exam is -\n",
    "* What it monitors - only metadata and not content of the packets\n",
    "* What it does not monitor - content of the packet, instance metadata (169.254.169.254/latest/metadata), AWS DNS Server, AWS Windows Licensing Server)\n",
    "* It is not realtime"
   ]
  },
  {
   "cell_type": "markdown",
   "metadata": {},
   "source": [
    "---\n",
    "\n",
    "Remember the difference: (all for private instances)\n",
    "- NAT Gateway (for IPv4 Outbound services e.g for software updates)\n",
    "- Egress-only IGW (for IPv6 Outbound services)\n",
    "- Bastion Host (for RDP/SSH connection to private IPs)\n",
    "- Gateway Endpoint (use it to connect your private instances to s3 and dynamo db which are aws public services; uses route table)\n",
    "- Interface Endpoint (use it to connect your private instances to other aws public services such as sns, sqs, kinesis; does not use route table but dns endpoint url)\n",
    "\n",
    "---"
   ]
  },
  {
   "cell_type": "markdown",
   "metadata": {},
   "source": [
    "## Shield (Layer 3 and 4 i.e IP, TCP/UDP) and WAF (Layer 7 i.e HTTP/s)\n",
    "\n",
    "![](./resources/shield_and_waf.png)"
   ]
  },
  {
   "cell_type": "markdown",
   "metadata": {},
   "source": [
    "EXTRA:\n",
    "- https://www.linode.com/docs/guides/introduction-to-systemctl/"
   ]
  }
 ],
 "metadata": {
  "kernelspec": {
   "display_name": "Python 3",
   "language": "python",
   "name": "python3"
  },
  "language_info": {
   "codemirror_mode": {
    "name": "ipython",
    "version": 3
   },
   "file_extension": ".py",
   "mimetype": "text/x-python",
   "name": "python",
   "nbconvert_exporter": "python",
   "pygments_lexer": "ipython3",
   "version": "3.9.0"
  }
 },
 "nbformat": 4,
 "nbformat_minor": 4
}
