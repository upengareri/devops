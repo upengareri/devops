{
 "cells": [
  {
   "cell_type": "markdown",
   "metadata": {},
   "source": [
    "### DEVOPS\n",
    "\n",
    "- build a fully __automated digital pipeline__ that takes ideas and turns them into revenue generating pieces of code."
   ]
  },
  {
   "cell_type": "markdown",
   "metadata": {},
   "source": [
    "__Continuous Integration__\n",
    "\t- Jenkins\n",
    "__Configuration Management__\n",
    "\t- Puppet, Ansible etc.\n",
    "__Containerization__\n",
    "\t- Docker\n",
    "__Continuous Monitoring__ (integration of security related tools, aggregation and co-relation of data produced by those security tools)\n",
    "\t- Nagios, Grafana"
   ]
  },
  {
   "cell_type": "markdown",
   "metadata": {},
   "source": [
    "### SDLC\n",
    "\n",
    "![agile development](./resources/agile_1.png)"
   ]
  },
  {
   "cell_type": "markdown",
   "metadata": {},
   "source": [
    "Agile Development doesn't necessarily mean the __release process__."
   ]
  },
  {
   "cell_type": "markdown",
   "metadata": {},
   "source": [
    "![agile not necessary](./resources/agile_2.png)"
   ]
  },
  {
   "cell_type": "markdown",
   "metadata": {},
   "source": [
    "### SDLC DEVOPS"
   ]
  },
  {
   "cell_type": "markdown",
   "metadata": {},
   "source": [
    "![devops](./resources/devops.png)"
   ]
  },
  {
   "cell_type": "markdown",
   "metadata": {},
   "source": [
    "### TESTING\n",
    "\n",
    "1. Unit testing\n",
    "2. Regression testing (test to capture scenario after the bug was identified and fixed)\n",
    "3. Smoke testing (after build process for sanity)\n",
    "4. System integration testing (test of whole system including dependencies such as database, APIs under a test load)\n",
    "5. Automated acceptance testing (scripted tests that verify that user-facing features work as planned; it can't replcae everything that a human QA can do)\n",
    "6. Manual acceptance (QA) testing"
   ]
  },
  {
   "cell_type": "code",
   "execution_count": null,
   "metadata": {},
   "outputs": [],
   "source": []
  }
 ],
 "metadata": {
  "kernelspec": {
   "display_name": "Python 3",
   "language": "python",
   "name": "python3"
  },
  "language_info": {
   "codemirror_mode": {
    "name": "ipython",
    "version": 3
   },
   "file_extension": ".py",
   "mimetype": "text/x-python",
   "name": "python",
   "nbconvert_exporter": "python",
   "pygments_lexer": "ipython3",
   "version": "3.8.3"
  }
 },
 "nbformat": 4,
 "nbformat_minor": 4
}
